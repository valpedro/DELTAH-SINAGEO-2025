{
 "cells": [
  {
   "cell_type": "markdown",
   "metadata": {},
   "source": [
    "# HyLands: modelando a evolução de paisagens e movimentos de massa\n",
    "\n",
    "Este notebook oferece uma breve introdução e guia do usuário para simular deslizamentos profundos utilizando o componente **BedrockLandslider** do Landlab dentro do sistema HyLands. Ele foi escrito por Benjamin Campforts para acompanhar as seguintes publicações:\n",
    "\n",
    "* Campforts, B., Shobe, C. M., Overeem, I., & Tucker, G. E. (2022). HyLands – A hybrid landscape evolution model. *Journal of Geophysical Research: Earth Surface*, 127(8). [doi: 10.1029/2022JF006745](https://doi.org/10.1029/2022JF006745)\n",
    "* Campforts, B., Shobe, C. M., Steer, P., Vanmaercke, M., Lague, D., *et al.* (2020). HyLands model description. *Geoscientific Model Development*, 13, 3863–3889. [doi: 10.5194/gmd-13-3863-2020](https://doi.org/10.5194/gmd-13-3863-2020)"
   ]
  },
  {
   "cell_type": "markdown",
   "metadata": {},
   "source": [
    "## Contexto do componente BedrockLandslider\n",
    "\n",
    "O **BedrockLandslider** (um componente do modelo híbrido de evolução de paisagens – HyLands) simula, de forma estocástica, deslizamentos profundos que removem rocha matriz e solo, gerando o transporte de sedimentos derivados através de paisagens bidimensionais.\n",
    "\n",
    "Este manual ensina como utilizar o BedrockLandslider isoladamente ou acoplado ao componente **SPACE** do Landlab. Para exemplos adicionais consulte o notebook do SPACE.\n",
    "\n",
    "Pré‑requisitos: conhecimento básico de programação em Python e familiaridade com o framework Landlab (Hobley *et al.*, 2017, GMD; Barnhart *et al.*, 2020, eSurf)."
   ]
  },
  {
   "cell_type": "markdown",
   "metadata": {},
   "source": [
    "## Descrição do modelo\n",
    "\n",
    "### Parâmetros de entrada\n",
    "\n",
    "- **angle_int_frict** $\\psi$: Ângulo de atrito interno do material [m/m]. Padrão = 1.0\n",
    "- **cohesion_eff** $c_{eff}$: Coesão efetiva do material [m L$^{-1}$ T$^{-2}$].\n",
    "- **landslides_return_time** $t_{LS}$: Tempo de retorno para ocorrência estocástica de deslizamentos [anos]. Padrão = 1e5\n",
    "- **rho_r** $\\rho_r$: Densidade de massa da rocha [m L$^{-3}$].\n",
    "- **fraction_fines_LS** $F_f$: Fração de finos permanentemente suspensíveis na rocha [-].\n",
    "- **phi** $\\phi$: Porosidade do sedimento [-].\n",
    "- **max_pixelsize_landslide**: Tamanho máximo de um deslizamento em número de pixels. Padrão = 1e9\n",
    "- **verbose_landslides**: Imprime o número de deslizamentos simulados por passo de tempo. Padrão = False\n",
    "- **seed**: Semente para o gerador estocástico. Se não especificado, usa‑se 2021. Defina `None` para manter a semente atual.\n",
    "- **landslides_on_boundary_nodes**: Permite que deslizamentos iniciem (nó crítico) e se estendam por nós de borda. Padrão = True\n",
    "- **critical_sliding_nodes**: Lista de nós críticos nos quais novos deslizamentos precisam iniciar. Padrão = None"
   ]
  },
  {
   "cell_type": "markdown",
   "metadata": {},
   "source": [
    "### Campos do modelo\n",
    "\n",
    "Os campos abaixo são atualizados pelo componente nos nós do grid sempre que `run_one_step` é executado. Observação: alguns campos adicionais são criados por componentes de fluxo e pelo modelo SPACE; eles não estão listados aqui, mas são necessários para a execução completa do modelo.\n",
    "\n",
    "- `soil__depth`, node, [m]: Espessura do solo (ou sedimento). A espessura é atualizada em todos os nós afetados por deslizamentos.\n",
    "- `sediment__flux`, node, [m$^3$/ano]: Fluxo volumétrico de sedimento transportado; integra o sedimento removido e é usado para calcular taxas de deposição.\n",
    "- `landslide__erosion`, node, [m]: Erosão total por deslizamentos em metros por nó.\n",
    "- `landslide__deposition`, node, [m]: Deposição total de sedimento por deslizamentos em metros por nó.\n",
    "- `landslide_sediment_point_source`, node, [m$^3$]: Volume de sedimento gerado no ponto onde o deslizamento se inicia, antes do cálculo do *run‑out*.\n",
    "\n",
    "### Atributos do modelo\n",
    "\n",
    "São criadas listas que armazenam estatísticas de deslizamentos e são reiniciadas a cada chamada de `landslide_erosion`:\n",
    "\n",
    "- `landslides_size`: Tamanho (número de pixels) dos deslizamentos simulados.\n",
    "- `landslides_volume`: Volume total dos deslizamentos simulados.\n",
    "- `landslides_volume_sed`: Volume de sedimento erodido.\n",
    "- `landslides_volume_bed`: Volume de rocha erodida."
   ]
  },
  {
   "cell_type": "markdown",
   "metadata": {},
   "source": [
    "## Etapas de um modelo BedrockLandslider\n",
    "\n",
    "As etapas descritas a seguir referem‑se a um modelo BedrockLandslider **acoplado** ao componente SPACE. Para exemplos de um modelo desacoplado consulte a documentação em [http://landlab.github.io](http://landlab.github.io)."
   ]
  },
  {
   "cell_type": "markdown",
   "metadata": {
    "tags": []
   },
   "source": [
    "### Etapa 1: Importar as bibliotecas necessárias\n",
    "\n",
    "Serão utilizados os componentes `BedrockLandslider` e `SPACE`, além do `PriorityFloodFlowRouter` para roteamento de fluxo em superfícies planas ou depressões."
   ]
  },
  {
   "cell_type": "code",
   "execution_count": null,
   "metadata": {
    "collapsed": false,
    "jupyter": {
     "outputs_hidden": false
    }
   },
   "outputs": [],
   "source": [
    "import copy\n",
    "\n",
    "import matplotlib as mpl\n",
    "import matplotlib.pyplot as plt  # For plotting results; optional\n",
    "import numpy as np\n",
    "\n",
    "from landlab import RasterModelGrid  # Grid utility\n",
    "from landlab import imshow_grid, imshowhs_grid  # For plotting results; optional\n",
    "from landlab.components import BedrockLandslider  # BedrockLandslider model\n",
    "from landlab.components import SpaceLargeScaleEroder  # SPACE model\n",
    "from landlab.components import PriorityFloodFlowRouter"
   ]
  },
  {
   "cell_type": "markdown",
   "metadata": {},
   "source": [
    "Três componentes do Landlab são indispensáveis para executar o BedrockLandslider: `PriorityFloodFlowRouter`, `SPACE` e `BedrockLandslider`. O roteador Priority‑Flood é particularmente útil quando a grade contém depressões fechadas.\n",
    "\n",
    "Além desses componentes de processo, utilizaremos utilitários de visualização – por exemplo, `imshow_grid` – para gerar mapas bidimensionais das variáveis do modelo."
   ]
  },
  {
   "cell_type": "markdown",
   "metadata": {},
   "source": [
    "### Etapa 2: Definir o domínio do modelo e as condições iniciais\n",
    "\n",
    "O BedrockLandslider e o SPACE operam em grades raster. Para este exemplo criaremos uma grade retangular com 10 linhas por 25 colunas (total de 250 nós) e espaçamento de 25 m entre nós.\n",
    "\n",
    "Depois de criada a grade, definiremos as elevações iniciais, profundidade do solo e outras variáveis necessárias."
   ]
  },
  {
   "cell_type": "code",
   "execution_count": null,
   "metadata": {
    "collapsed": false,
    "jupyter": {
     "outputs_hidden": false
    }
   },
   "outputs": [],
   "source": [
    "# Set grid parameters\n",
    "num_rows = 50\n",
    "num_columns = 50\n",
    "node_spacing = 25.0\n",
    "\n",
    "# track sediment flux at the node adjacent to the outlet at lower-left\n",
    "node_next_to_outlet = num_columns + 1\n",
    "\n",
    "# Instantiate model grid\n",
    "mg = RasterModelGrid((num_rows, num_columns), node_spacing)\n",
    "# add field ’topographic elevation’ to the grid\n",
    "mg.add_zeros(\"topographic__elevation\", at=\"node\")\n",
    "# set constant random seed for consistent topographic roughness\n",
    "np.random.seed(seed=5000)\n",
    "\n",
    "# Create initial model topography:\n",
    "\n",
    "# add topographic roughness\n",
    "random_noise = (\n",
    "    np.random.rand(len(mg.node_y)) / 1000.0\n",
    ")  # impose topography values on model grid\n",
    "mg[\"node\"][\"topographic__elevation\"] += random_noise\n",
    "\n",
    "# add field 'soil__depth' to the grid\n",
    "mg.add_zeros(\"soil__depth\", at=\"node\")\n",
    "\n",
    "# Set 2 m of initial soil depth at core nodes\n",
    "mg.at_node[\"soil__depth\"][mg.core_nodes] = 1.0  # meters\n",
    "\n",
    "# Add field 'bedrock__elevation' to the grid\n",
    "mg.add_zeros(\"bedrock__elevation\", at=\"node\")\n",
    "\n",
    "# Sum 'soil__depth' and 'bedrock__elevation'\n",
    "# to yield 'topographic elevation'\n",
    "mg.at_node[\"bedrock__elevation\"][:] = mg.at_node[\"topographic__elevation\"]\n",
    "mg.at_node[\"topographic__elevation\"][:] += mg.at_node[\"soil__depth\"]"
   ]
  },
  {
   "cell_type": "markdown",
   "metadata": {},
   "source": [
    "### Etapa 3: Definir as condições de contorno\n",
    "\n",
    "É necessário especificar onde água e sedimentos podem sair do domínio. Neste exemplo, deixaremos a borda sul aberta (condição de fluxo livre) e manteremos as demais fronteiras fechadas."
   ]
  },
  {
   "cell_type": "code",
   "execution_count": null,
   "metadata": {
    "tags": []
   },
   "outputs": [],
   "source": [
    "# Open all model boundary edges\n",
    "mg.set_closed_boundaries_at_grid_edges(\n",
    "    bottom_is_closed=False,\n",
    "    left_is_closed=False,\n",
    "    right_is_closed=False,\n",
    "    top_is_closed=False,\n",
    ")"
   ]
  },
  {
   "cell_type": "markdown",
   "metadata": {},
   "source": [
    "### Etapa 4: Inicializar o roteador de fluxo e o SPACE\n",
    "\n",
    "Como na maioria dos componentes do Landlab, criaremos instâncias de `PriorityFloodFlowRouter` e `SPACE`, ajustando os parâmetros relevantes. Nesta etapa ainda não ativaremos o BedrockLandslider."
   ]
  },
  {
   "cell_type": "code",
   "execution_count": null,
   "metadata": {
    "tags": []
   },
   "outputs": [],
   "source": [
    "# Instantiate flow router\n",
    "fr = PriorityFloodFlowRouter(mg, flow_metric=\"D8\", suppress_out=True)\n",
    "\n",
    "# Instantiate SPACE model with chosen parameters\n",
    "sp = SpaceLargeScaleEroder(\n",
    "    mg,\n",
    "    K_sed=2.5e-5,\n",
    "    K_br=2.5e-5,\n",
    "    F_f=0.0,\n",
    "    phi=0.0,\n",
    "    H_star=1.0,\n",
    "    v_s=1,\n",
    "    m_sp=0.5,\n",
    "    n_sp=1.0,\n",
    "    sp_crit_sed=0,\n",
    "    sp_crit_br=0,\n",
    ")"
   ]
  },
  {
   "cell_type": "markdown",
   "metadata": {},
   "source": [
    "### Etapa 5: Executar o loop de tempo para desenvolver uma paisagem **sem** atividade de deslizamentos\n",
    "\n",
    "O componente SPACE calcula o entranhamento e a deposição de sedimentos; ele será executado dentro de um loop que avança até o tempo de modelo atingir o valor definido."
   ]
  },
  {
   "cell_type": "code",
   "execution_count": null,
   "metadata": {
    "collapsed": false,
    "jupyter": {
     "outputs_hidden": false
    }
   },
   "outputs": [],
   "source": [
    "# Set model timestep\n",
    "timestep = 1e3  # years\n",
    "\n",
    "# Set elapsed time to zero\n",
    "elapsed_time = 0.0  # years\n",
    "\n",
    "# Set timestep count to zero\n",
    "count = 0\n",
    "\n",
    "# Set model run time\n",
    "run_time = 5e5  # years\n",
    "\n",
    "# Array to save sediment flux values\n",
    "sed_flux = np.zeros(int(run_time // timestep))\n",
    "\n",
    "# Uplift rate in m/yr\n",
    "U = 1e-3\n",
    "\n",
    "cmap = copy.copy(mpl.colormaps[\"terrain\"])\n",
    "\n",
    "while elapsed_time < run_time:  # time units of years\n",
    "    # Insert uplift at core nodes\n",
    "    mg.at_node[\"bedrock__elevation\"][mg.core_nodes] += U * timestep\n",
    "    mg.at_node[\"topographic__elevation\"][:] = (\n",
    "        mg.at_node[\"bedrock__elevation\"] + mg.at_node[\"soil__depth\"]\n",
    "    )\n",
    "\n",
    "    # Run the flow router\n",
    "    fr.run_one_step()\n",
    "\n",
    "    # Run SPACE for one time step\n",
    "    sp.run_one_step(dt=timestep)\n",
    "\n",
    "    # Add to value of elapsed time\n",
    "    elapsed_time += timestep\n",
    "\n",
    "    if np.mod(elapsed_time, 1e5) == 0:\n",
    "        print(\"%.2f of model run completed\" % (elapsed_time / run_time))\n",
    "        imshow_grid(\n",
    "            mg, \"topographic__elevation\", cmap=cmap, colorbar_label=\"Elevation (m)\"\n",
    "        )\n",
    "        plt.show()"
   ]
  },
  {
   "cell_type": "markdown",
   "metadata": {},
   "source": [
    "## Visualização dos resultados"
   ]
  },
  {
   "cell_type": "markdown",
   "metadata": {},
   "source": [
    "### Topografia e profundidade do solo"
   ]
  },
  {
   "cell_type": "code",
   "execution_count": null,
   "metadata": {
    "collapsed": false,
    "jupyter": {
     "outputs_hidden": false
    }
   },
   "outputs": [],
   "source": [
    "cmap = copy.copy(mpl.colormaps[\"terrain\"])\n",
    "# Show DEM draped over the shaded topographic relief\n",
    "imshowhs_grid(\n",
    "    mg,\n",
    "    \"topographic__elevation\",\n",
    "    var_name=\"Topo\",\n",
    "    var_units=r\"m\",\n",
    "    grid_units=(\"m\", \"m\"),\n",
    "    cmap=cmap,\n",
    "    ticks_km=False,\n",
    ")\n",
    "plt.show()\n",
    "# Show Soil thickness draped over the shaded topographic relief\n",
    "cmap = copy.copy(mpl.colormaps[\"pink\"])\n",
    "imshowhs_grid(\n",
    "    mg,\n",
    "    \"topographic__elevation\",\n",
    "    drape1=mg.at_node[\"soil__depth\"],\n",
    "    plot_type=\"Drape1\",\n",
    "    var_name=\"Soil\",\n",
    "    var_units=r\"m\",\n",
    "    grid_units=(\"m\", \"m\"),\n",
    "    cmap=cmap,\n",
    "    ticks_km=False,\n",
    ")\n",
    "\n",
    "z_before_LS = np.array(mg[\"node\"][\"topographic__elevation\"])"
   ]
  },
  {
   "cell_type": "markdown",
   "metadata": {
    "collapsed": false,
    "jupyter": {
     "outputs_hidden": false
    }
   },
   "source": [
    "### Etapa 6: Inicializar `PriorityFloodFlowRouter`, `SPACE` e `BedrockLandslider`\n",
    "\n",
    "`BedrockLandslider` é implementado como uma classe Python. Aqui instanciamos essa classe e definimos os parâmetros necessários. Para calcular o *run‑out* dos deslizamentos utilizamos um esquema de deposição não local baseado em inclinação e drenagem."
   ]
  },
  {
   "cell_type": "code",
   "execution_count": null,
   "metadata": {},
   "outputs": [],
   "source": [
    "# Instantiate flow router, with additional multiple flow director for hillslopes\n",
    "fr = PriorityFloodFlowRouter(\n",
    "    mg,\n",
    "    flow_metric=\"D8\",\n",
    "    separate_hill_flow=True,\n",
    "    hill_flow_metric=\"Quinn\",\n",
    "    update_hill_flow_instantaneous=True,\n",
    ")\n",
    "\n",
    "# Instantiate SPACE model with chosen parameters\n",
    "hy = BedrockLandslider(\n",
    "    mg,\n",
    "    angle_int_frict=0.4,\n",
    "    cohesion_eff=1e3,\n",
    "    landslides_return_time=1000,\n",
    "    landslides_on_boundary_nodes=False,\n",
    ")"
   ]
  },
  {
   "cell_type": "markdown",
   "metadata": {},
   "source": [
    "### Etapa 7: Executar o loop de tempo por 200 anos para desenvolver uma paisagem **com** atividade de deslizamentos\n",
    "\n",
    "Assim como antes, aplicaremos soerguimento, rotearemos o fluxo e executaremos o SPACE. Entretanto, agora o BedrockLandslider estará ativo e os deslizamentos serão simulados estocasticamente."
   ]
  },
  {
   "cell_type": "code",
   "execution_count": null,
   "metadata": {},
   "outputs": [],
   "source": [
    "# Reset elevation back to elevation simulated without landslides to test various landslide configuration settings\n",
    "\n",
    "mg[\"node\"][\"topographic__elevation\"][:] = z_before_LS\n",
    "timestep = 20  # years\n",
    "landslides_size_all_steps = []\n",
    "\n",
    "for i in range(10):\n",
    "    # Insert uplift at core nodes\n",
    "    mg.at_node[\"bedrock__elevation\"][mg.core_nodes] += U * timestep\n",
    "    mg.at_node[\"topographic__elevation\"][:] = (\n",
    "        mg.at_node[\"bedrock__elevation\"] + mg.at_node[\"soil__depth\"]\n",
    "    )\n",
    "\n",
    "    # Run the flow router\n",
    "    fr.run_one_step()\n",
    "\n",
    "    # Run SPACE for one time step\n",
    "    sp.run_one_step(dt=timestep)\n",
    "\n",
    "    # Run BedrockLandslider for one time step\n",
    "    hy.run_one_step(dt=timestep)\n",
    "\n",
    "    # Store landslide sizes of current time step into general ls_size list\n",
    "    landslides_size_all_steps = np.append(landslides_size_all_steps, hy.landslides_size)"
   ]
  },
  {
   "cell_type": "markdown",
   "metadata": {},
   "source": [
    "## Visualização dos resultados\n",
    "### Distribuição magnitude–frequência dos deslizamentos simulados em 200 anos"
   ]
  },
  {
   "cell_type": "code",
   "execution_count": null,
   "metadata": {},
   "outputs": [],
   "source": [
    "LS_size = landslides_size_all_steps * mg.dx**2\n",
    "counts, bins = np.histogram(np.log10(LS_size), 10)\n",
    "plt.hist(np.log10(LS_size), log=True, bins=bins, density=True)\n",
    "plt.xlabel(\"log10 LS Area, m2\")\n",
    "plt.ylabel(\"Landslide frequency\")"
   ]
  },
  {
   "cell_type": "markdown",
   "metadata": {},
   "source": [
    "### Localização dos deslizamentos na última iteração do modelo\n",
    "\n",
    "Vamos plotar os deslizamentos resultantes."
   ]
  },
  {
   "cell_type": "code",
   "execution_count": null,
   "metadata": {},
   "outputs": [],
   "source": [
    "# Landslide Erosion\n",
    "cmap = copy.copy(mpl.colormaps[\"hot_r\"])\n",
    "imshow_grid(\n",
    "    mg,\n",
    "    np.sqrt(mg.at_node[\"landslide__erosion\"]),\n",
    "    colorbar_label=\"SQRT( Landslide erosion, m) \",\n",
    "    cmap=cmap,\n",
    ")\n",
    "plt.show()\n",
    "\n",
    "# Landslide Deposition\n",
    "cmap = copy.copy(mpl.colormaps[\"winter_r\"])\n",
    "imshow_grid(\n",
    "    mg,\n",
    "    np.sqrt(mg.at_node[\"landslide__deposition\"]),\n",
    "    colorbar_label=\"SQRT( Landslide deposition, m) \",\n",
    "    cmap=cmap,\n",
    ")\n",
    "plt.show()"
   ]
  }
 ],
 "metadata": {
  "execution": {
   "nbmake": {
    "markers": [
     "slow",
     "richdem"
    ]
   }
  },
  "kernelspec": {
   "display_name": "CSDMS",
   "language": "python",
   "name": "csdms"
  },
  "language_info": {
   "codemirror_mode": {
    "name": "ipython",
    "version": 3
   },
   "file_extension": ".py",
   "mimetype": "text/x-python",
   "name": "python",
   "nbconvert_exporter": "python",
   "pygments_lexer": "ipython3",
   "version": "3.12.7"
  }
 },
 "nbformat": 4,
 "nbformat_minor": 4
}
